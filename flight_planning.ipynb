{
 "cells": [
  {
   "cell_type": "code",
   "execution_count": 21,
   "metadata": {},
   "outputs": [],
   "source": [
    "import math"
   ]
  },
  {
   "cell_type": "code",
   "execution_count": 57,
   "metadata": {},
   "outputs": [],
   "source": [
    "def flight_plan(c, mk, s_not, q, p, t_maneuver, V, f, Lq, Lp):\n",
    "    mb = c*math.sqrt(mk)\n",
    "    mb = math.floor(mb/1000)*1000\n",
    "\n",
    "    print(f\"Scale of the image: {mb:.2f}\")\n",
    "\n",
    "    S = mb*(s_not/100)\n",
    "    A=S*(1-q)\n",
    "    print(f\"Distance between strips: {A:.2f} m\")\n",
    "\n",
    "    B = S*(1-p)\n",
    "    print(f\"Flight base: {B:.2f} m\")\n",
    "\n",
    "    F = S**2\n",
    "    print(f\"Area that image covers on the ground: {F/1000000:.2f} km^2\")\n",
    "\n",
    "    area_ground = (S-B)*S\n",
    "    print(f\"Area that a model covers on the ground: {area_ground/1000000:.2f} m^2\")\n",
    "\n",
    "    Fn = A*B\n",
    "    print(f\"Additional stereoscopic area: {Fn/1000000:.2f} m^2\")\n",
    "\n",
    "    t = B/(V*1000/3600)\n",
    "    print(f\"Time between two images: {t:.2f} seconds\")\n",
    "\n",
    "    n = (Lq-S)/A + 1\n",
    "    n = math.ceil(n)\n",
    "    print(f\"Number of strips: {n}\")\n",
    "\n",
    "    N = Lp/B + 4\n",
    "    N = math.ceil(N)\n",
    "    print(f\"Number of images of each strip: {N}\")\n",
    "\n",
    "    T=N*n\n",
    "    print(f\"Total number of images in the block: {T}\")\n",
    "\n",
    "    t_total = (N-1)*n*t + (n-1)*t_maneuver\n",
    "    print(f\"Total flight time: {t_total:.2f} seconds\")\n",
    "    hours = math.floor(t_total/3600)\n",
    "    minutes = math.floor((t_total%3600)/60)\n",
    "    seconds = t_total%60  \n",
    "    print(f\"Total flight time: {hours} hours, {minutes} minutes, {seconds%60:.2f} seconds\")\n",
    "\n",
    "    hg = (f/1000)*mb\n",
    "    print(f\"Average flight height: {hg:.2f} m\")"
   ]
  },
  {
   "cell_type": "markdown",
   "metadata": {},
   "source": [
    "* c = 100: High-precision works like coordinate and profile jobs\n",
    "* c = 125: Road projects\n",
    "* c = 150: Planning of engineering structures\n",
    "* c = 175: Graphic cadastre projects\n",
    "* c = 200: General mapping projects\n",
    "* c = 225: Planning projects"
   ]
  },
  {
   "cell_type": "code",
   "execution_count": 63,
   "metadata": {},
   "outputs": [
    {
     "name": "stdout",
     "output_type": "stream",
     "text": [
      "Scale of the image: 14000.00\n",
      "Distance between strips: 1932.00 m\n",
      "Flight base: 1288.00 m\n",
      "Area that image covers on the ground: 10.37 km^2\n",
      "Area that a model covers on the ground: 6.22 m^2\n",
      "Additional stereoscopic area: 2.49 m^2\n",
      "Time between two images: 18.55 seconds\n",
      "Number of strips: 2\n",
      "Number of images of each strip: 9\n",
      "Total number of images in the block: 18\n",
      "Total flight time: 596.76 seconds\n",
      "Total flight time: 0 hours, 9 minutes, 56.76 seconds\n",
      "Average flight height: 2240.00 m\n"
     ]
    }
   ],
   "source": [
    "# Example in the lecture\n",
    "c=200 # constant\n",
    "mk=5000 # scale of the map\n",
    "s_not=23 # size of image, in cm\n",
    "q=0.4 # sidelap\n",
    "p=0.6 # overlap\n",
    "t_maneuver=5*60 # time of maneuver, in seconds\n",
    "V=250 # speed of the plane, in km/h\n",
    "f=160 # focal length, in mm\n",
    "Lq= 5000 # length of the block, in m\n",
    "Lp= 6000 # width of the block, in m\n",
    "\n",
    "flight_plan(c, mk, s_not, q, p, t_maneuver, V, f, Lq, Lp)"
   ]
  },
  {
   "cell_type": "code",
   "execution_count": 61,
   "metadata": {},
   "outputs": [
    {
     "name": "stdout",
     "output_type": "stream",
     "text": [
      "Scale of the image: 10000.00\n",
      "Distance between strips: 1050.00 m\n",
      "Flight base: 840.00 m\n",
      "Area that image covers on the ground: 4.41 km^2\n",
      "Area that a model covers on the ground: 2.65 m^2\n",
      "Additional stereoscopic area: 0.88 m^2\n",
      "Time between two images: 15.12 seconds\n",
      "Number of strips: 3\n",
      "Number of images of each strip: 12\n",
      "Total number of images in the block: 36\n",
      "Total flight time: 1218.96 seconds\n",
      "Total flight time: 0 hours, 20 minutes, 18.96 seconds\n",
      "Average flight height: 1646.70 m\n"
     ]
    }
   ],
   "source": [
    "# CMH\n",
    "c=150\n",
    "mk=5000\n",
    "s_not=21\n",
    "q=0.5\n",
    "p=0.6\n",
    "t_maneuver=6*60\n",
    "V=200\n",
    "f=164.67\n",
    "Lq= 4000\n",
    "Lp= 6000\n",
    "\n",
    "flight_plan(c, mk, s_not, q, p, t_maneuver, V, f, Lq, Lp)"
   ]
  }
 ],
 "metadata": {
  "kernelspec": {
   "display_name": "Python 3",
   "language": "python",
   "name": "python3"
  },
  "language_info": {
   "codemirror_mode": {
    "name": "ipython",
    "version": 3
   },
   "file_extension": ".py",
   "mimetype": "text/x-python",
   "name": "python",
   "nbconvert_exporter": "python",
   "pygments_lexer": "ipython3",
   "version": "3.12.0"
  }
 },
 "nbformat": 4,
 "nbformat_minor": 2
}
